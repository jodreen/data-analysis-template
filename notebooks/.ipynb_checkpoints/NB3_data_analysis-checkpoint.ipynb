{
 "metadata": {
  "name": ""
 },
 "nbformat": 3,
 "nbformat_minor": 0,
 "worksheets": [
  {
   "cells": [
    {
     "cell_type": "markdown",
     "metadata": {},
     "source": [
      "In this notebook, you'll perform the actual analysis of the data stored in the directory\n",
      "\n",
      "    ./data/cleaned\n",
      "\n",
      "If the data is not ready yet (e.g. the other members of the team in charge of cleaning the data are not done yet), you may want to simulate cleaned data in the form you want them to be in order to perform the analysis. This may also help you data cleaning team to come up with the rigth data frame. \n",
      "If you choose to do so, store your simulated data into the directory\n",
      "\n",
      "    ./data/simulated\n",
      "    \n",
      "Having performed analysis of simulated data may help you with the analysis of the actual data, since you will be able to notice deviations between the real and simulated data, which may be worth explaining and investigating further.\n",
      "\n",
      "The graphics your going to produce as a result of your analysis should be store in the directory:\n",
      "\n",
      "\n",
      "    ./visualization\n",
      "\n"
     ]
    },
    {
     "cell_type": "markdown",
     "metadata": {},
     "source": [
      "##Team members responsible for this notebook:\n",
      "\n",
      "List the team members contributing to this notebook, along with their responsabilities:\n",
      "\n",
      "* team member 1 **name**: team member 1 **responsabilities**\n",
      "* team member 2 **name**: team member 2 **responsabilities**\n",
      "* etc.\n",
      "\n",
      "I advise you to work at least in pairs for each project notebook, as you did for the homework assignments. Of course, all team members may participate to each notebook. "
     ]
    },
    {
     "cell_type": "heading",
     "level": 3,
     "metadata": {},
     "source": [
      "Our Plan"
     ]
    },
    {
     "cell_type": "code",
     "collapsed": false,
     "input": [
      "%load_ext rmagic\n",
      "\n",
      "\n"
     ],
     "language": "python",
     "metadata": {},
     "outputs": [
      {
       "output_type": "stream",
       "stream": "stdout",
       "text": [
        "The rmagic extension is already loaded. To reload it, use:\n",
        "  %reload_ext rmagic\n"
       ]
      }
     ],
     "prompt_number": 17
    },
    {
     "cell_type": "code",
     "collapsed": false,
     "input": [
      "%%R\n",
      "\n",
      "##creating a list of files in the folder\n",
      "list_of_files <- list.files(\"~/Desktop/googletrends-stocks/notebooks/gtrends\")\n",
      "normal_cor_list <- c()\n",
      "percent_cor_list <- c()\n",
      "\n",
      "for (s in 1:length(list_of_files)){\n",
      "    ##opening each file in the folder\n",
      "    myStock = read.csv(paste(\"gtrends/\",list_of_files[s],sep = \"\"))\n",
      "    myStock = na.omit(myStock)\n",
      "    growth2 = c(0)\n",
      "    growth = 0\n",
      "    ##adding a column with relative stock prices\n",
      "    for (i in 1:length(myStock$Price)){\n",
      "        growth = (myStock$Price[i]-myStock$Price[i-1])/myStock$Price[i-1]*100\n",
      "        growth2= c(growth2,growth)\n",
      "    }\n",
      "    ##getting rid of key term files, so only normal files remain\n",
      "    if (substr(list_of_files[s],1,4) == \"sell\"){\n",
      "        next\n",
      "        }\n",
      "    if (substr(list_of_files[s],1,3) == \"buy\"){\n",
      "        next\n",
      "        }\n",
      "    ##intermediate data cleaning step which should be unnecessary after cleaning is linked\n",
      "    if (nrow(myStock) == 0){\n",
      "        next\n",
      "        }\n",
      "    if (ncol(myStock) < 3){\n",
      "        next\n",
      "        }\n",
      "    myStockNew = data.frame(myStock, \"PriceGrowth\"= growth2)\n",
      "    ##lists of correlatons for absolute and relative stock price data\n",
      "    normal_cor_list <-c(cor(myStockNew[,2], myStockNew[,3]),normal_cor_list)\n",
      "    percent_cor_list <-c(cor(myStockNew[,2], myStockNew[,4]),percent_cor_list)\n",
      "}\n",
      "\n",
      "hist(normal_cor_list, breaks = 20, col = \"red\")\n",
      "plot(density(normal_cor_list))\n",
      "print(length(normal_cor_list))\n",
      "\n",
      "\n"
     ],
     "language": "python",
     "metadata": {},
     "outputs": [
      {
       "metadata": {},
       "output_type": "display_data",
       "text": [
        "[1] 47\n"
       ]
      },
      {
       "metadata": {},
       "output_type": "display_data",
       "png": "[encoded data removed]"
      },
      {
       "metadata": {},
       "output_type": "display_data",
       "png": "[encoded data removed]"
      }
     ],
     "prompt_number": 64
    },
    {
     "cell_type": "code",
     "collapsed": false,
     "input": [],
     "language": "python",
     "metadata": {},
     "outputs": [],
     "prompt_number": 57
    },
    {
     "cell_type": "code",
     "collapsed": false,
     "input": [],
     "language": "python",
     "metadata": {},
     "outputs": [],
     "prompt_number": 57
    },
    {
     "cell_type": "code",
     "collapsed": false,
     "input": [],
     "language": "python",
     "metadata": {},
     "outputs": [],
     "prompt_number": 57
    },
    {
     "cell_type": "code",
     "collapsed": false,
     "input": [],
     "language": "python",
     "metadata": {},
     "outputs": []
    }
   ],
   "metadata": {}
  }
 ]
}