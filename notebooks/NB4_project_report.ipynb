{
 "metadata": {
  "name": ""
 },
 "nbformat": 3,
 "nbformat_minor": 0,
 "worksheets": [
  {
   "cells": [
    {
     "cell_type": "markdown",
     "metadata": {
      "slideshow": {
       "slide_type": "skip"
      }
     },
     "source": [
      "In this notebook, you'll sumarize your finding for the class presentation. \n",
      "\n",
      "\n",
      "The class presentation will use this notebook in slide mode, as I do during lecture time.\n",
      "\n",
      "You'll need to download the following [zip file](https://github.com/fperez/nb-slideshow-template/archive/master.zip), unzip it, and run the following notebook <code>install-support.ipynb</code> to install the slide capabilities.\n",
      "\n",
      "The notebook <code>notebook-slideshow-example.ipynb</code> will give you examples on how to use slides within the iPython notebook.  \n",
      "\n",
      "You should also write this notebook so that you can convert it nicely into a pdf document using the commands\n",
      "\n",
      "    ipython nbconvert NB4_report.pynb --to latex\n",
      "    pdflatex NB4_report.tex\n",
      "    \n",
      "See [here](http://ipython.org/ipython-doc/rel-1.0.0/interactive/nbconvert.html) for further references on how to do that. \n",
      "\n",
      "In this notebook, you'll\n",
      "\n",
      "* describe your problem as stated in the propectus \n",
      " \n",
      " \n",
      "* comment on your data sources, on their format, on the difficulties to get them\n",
      "\n",
      "\n",
      "* present the main challenge you encountered\n",
      "\n",
      "\n",
      "* present your finding in the form of expresive graphics\n",
      "\n",
      "Be sure to include an introduction section motivating your visualizations, with a description of the substantive context and why it is interesting.\n",
      "\n",
      "\n",
      "Cite the source of the data and any other references that you used in carrying out your project.\n"
     ]
    },
    {
     "cell_type": "code",
     "collapsed": false,
     "input": [
      "%load_ext rmagic"
     ],
     "language": "python",
     "metadata": {
      "slideshow": {
       "slide_type": "skip"
      }
     },
     "outputs": [],
     "prompt_number": 2
    },
    {
     "cell_type": "markdown",
     "metadata": {
      "slideshow": {
       "slide_type": "slide"
      }
     },
     "source": [
      "##Team members responsible for this notebook:\n",
      "\n",
      "List the team members contributing to this notebook, along with their responsabilities:\n",
      "\n",
      "* team member 1 **name**: team member 1 **responsabilities**\n",
      "* team member 2 **name**: team member 2 **responsabilities**\n",
      "* etc.\n",
      "\n"
     ]
    },
    {
     "cell_type": "markdown",
     "metadata": {
      "slideshow": {
       "slide_type": "slide"
      }
     },
     "source": [
      "##Problem\n",
      "\n",
      "Our group will examine the relationship between Google Trends (Google web search data) and stock prices of large companies namely in the S&P500.\n",
      "\n",
      "First, we will determine if there is a correlation between search data for the company name/ticker (\u201cApple\u201d or \u201cAAPL\u201d) and the stock price. \n",
      "\n",
      "Second, we will determine if there is a correlation between search data for positive terms related to the company name/ticker (\u201cBuy AAPL\u201d) and the stock price. \n",
      "\n",
      "Third, we will determine if there is a correlation between search data for negative terms related to the company name/ticker (\u201cSell AAPL\u201d) and the stock price. \n",
      "\n",
      "Finally, we will use this information to see if we can make a simple trading algorithm based on trends in the Google search data and see how a hypothetical portfolio would function on historical data."
     ]
    },
    {
     "cell_type": "markdown",
     "metadata": {
      "slideshow": {
       "slide_type": "slide"
      }
     },
     "source": [
      "##Data Sources\n",
      "\n",
      "We used Google Trends and Yahoo Finance as our sources of data. \n",
      "\n",
      "Google Trends data will be obtained from the Google Trends website (http://www.google.com/trends/explore#cmpt=q). Although there is a \u201cDownload as CSV\u201d option, we will need to find a way to find Google search data for a large number of search terms for a large number of stocks. One problem was that the Google trends data (how much it is searched) is normalized to a scale from 0-100 for every search. That means some of the values are 0, which we had to adjust for when we were cleaning the data. The Google Trends data was a csv, which made it easy to understand, but the hard part was getting all the data we needed. \n",
      "\n",
      "Therefore, we will need to create a script that can quickly repeat the process, or use an API that has already done so (http://techslides.com/hacking-the-google-trends-api/). \n",
      "\n",
      "Stock data is obtained from Yahoo Finance by creating a script or using a script available.\n"
     ]
    },
    {
     "cell_type": "markdown",
     "metadata": {
      "slideshow": {
       "slide_type": "slide"
      }
     },
     "source": [
      "##Luke Looks at Data\n",
      "\n",
      "After finally getting all the data he needs, Luke needs to see what data he is working with. He randomly opens up a couple of files to get a general sense of the data he has gathered.\n"
     ]
    },
    {
     "cell_type": "code",
     "collapsed": false,
     "input": [
      "%%R\n",
      "\n",
      "testing = read.csv(\"./data/raw/DowJones/3M Company_gtrends.csv\")\n",
      "testing2 = read.csv(\"./data/raw/DowJones_Modified/V_gtrends.csv\")\n",
      "testing3 = read.csv(\"./data/raw/SP500/sell BEN_gtrends.csv\")\n",
      "print(head(testing))\n",
      "print(head(testing2))\n",
      "print(head(testing3))\n"
     ],
     "language": "python",
     "metadata": {
      "slideshow": {
       "slide_type": "fragment"
      }
     },
     "outputs": [
      {
       "metadata": {},
       "output_type": "display_data",
       "text": [
        "        Date X3M.Company Price\n",
        "1 2004-01-09           0    NA\n",
        "2 2004-01-16           0    NA\n",
        "3 2004-01-23         100    NA\n",
        "4 2004-01-30           0    NA\n",
        "5 2004-02-06           0 79.81\n",
        "6 2004-02-13           0 79.68\n",
        "        Date  V Price\n",
        "1 2004-01-09 35    NA\n",
        "2 2004-01-16 35    NA\n",
        "3 2004-01-23 35    NA\n",
        "4 2004-01-30 35    NA\n",
        "5 2004-02-06 34    NA\n",
        "6 2004-02-13 35    NA\n",
        "        Date sell.BEN Price\n",
        "1 2004-01-09        0    NA\n",
        "2 2004-01-16        0    NA\n",
        "3 2004-01-23        0    NA\n",
        "4 2004-01-30        0    NA\n",
        "5 2004-02-06        0 57.02\n",
        "6 2004-02-13        0 58.45\n",
        "$Date\n",
        "[1] \"factor\"\n",
        "\n",
        "$X3M.Company\n",
        "[1] \"integer\"\n",
        "\n",
        "$Price\n",
        "[1] \"numeric\"\n",
        "\n"
       ]
      }
     ],
     "prompt_number": 4
    },
    {
     "cell_type": "markdown",
     "metadata": {
      "slideshow": {
       "slide_type": "slide"
      }
     },
     "source": [
      "##Luke Identifies the Problem\n",
      "\n",
      "Oh no! A lot of the data points do not have a price value which means those points are useless to him. And some of them have a value 0 for the number of Google Trends hits. That is going to affect his data analysis, so we must get rid of those points.\n",
      "\n",
      "He also wants all his data to be in the same format. The first file he tests seems to be okay."
     ]
    },
    {
     "cell_type": "code",
     "collapsed": false,
     "input": [
      "%%R\n",
      "\n",
      "print(lapply(testing, class))"
     ],
     "language": "python",
     "metadata": {
      "slideshow": {
       "slide_type": "fragment"
      }
     },
     "outputs": [
      {
       "metadata": {},
       "output_type": "display_data",
       "text": [
        "$Date\n",
        "[1] \"factor\"\n",
        "\n",
        "$X3M.Company\n",
        "[1] \"integer\"\n",
        "\n",
        "$Price\n",
        "[1] \"numeric\"\n",
        "\n"
       ]
      }
     ],
     "prompt_number": 5
    },
    {
     "cell_type": "markdown",
     "metadata": {
      "slideshow": {
       "slide_type": "fragment"
      }
     },
     "source": [
      "He wants the first column to be a \"Date\", the second column to be an integer, since Google Trends data is always an integer, and the stock price to be a numeric. Thus we need to change all the data classes if they are not already in the correct format.\n",
      "\n",
      "We need to check every file in each of the three directories \"data/raw/DowJones\", \"data/raw/DowJones_Modified\", and \"data/raw/SP500\" and make sure they adhere to what Luke wants.\n",
      "\n",
      "Let's start coding!"
     ]
    },
    {
     "cell_type": "markdown",
     "metadata": {
      "slideshow": {
       "slide_type": "slide"
      }
     },
     "source": [
      "##Luke Cleans\n",
      "\n",
      "Luke, with his great R skills, comes up with a function that solves his problems. He runs his code on the three directories his raw data is stored in.\n"
     ]
    },
    {
     "cell_type": "code",
     "collapsed": false,
     "input": [
      "%%R\n",
      "\n",
      "cleanDow = function(fileName) {\n",
      "    stock = read.csv(paste(\"./data/raw/DowJones_Modified/\", fileName, sep = \"\"))\n",
      "    modes = data.frame(lapply(stock, class))\n",
      "    if (modes[1] != \"Date\") {\n",
      "        stock[,1] = as.Date(stock[,1], '%Y-%m-%d')\n",
      "    }\n",
      "    if (modes[2] != \"integer\") {\n",
      "        stock[,2] = as.integer(as.character(stock[,2]))\n",
      "    }\n",
      "    if (modes[3] != \"numeric\") {\n",
      "        stock[,3] = as.numeric(as.character(stock[,3]))\n",
      "    }\n",
      "    col = colnames(stock)\n",
      "    stock = stock[!is.na(stock[,1]) & !is.na(stock[,2]) & !is.na(stock[,3]) & stock[,2] != 0,]\n",
      "    write.csv(stock, file = paste(\"./data/cleaned/DowJones_Modified/\", fileName, sep = \"\"), row.names = FALSE)\n",
      "}"
     ],
     "language": "python",
     "metadata": {
      "slideshow": {
       "slide_type": "fragment"
      }
     },
     "outputs": []
    },
    {
     "cell_type": "markdown",
     "metadata": {
      "slideshow": {
       "slide_type": "slide"
      }
     },
     "source": [
      "##Luke Looks at Clean Data"
     ]
    },
    {
     "cell_type": "markdown",
     "metadata": {
      "slideshow": {
       "slide_type": "fragment"
      }
     },
     "source": [
      "Luke needs to check if his data follows his guidelines. He takes a look at the data he looked at earlier to see if his cleaning code works. "
     ]
    },
    {
     "cell_type": "code",
     "collapsed": false,
     "input": [
      "%%R\n",
      "\n",
      "cleanTest = read.csv(\"./data/cleaned/DowJones/3M Company_gtrends.csv\")\n",
      "cleanTest2 = read.csv(\"./data/cleaned/DowJones_Modified/V_gtrends.csv\")\n",
      "cleanTest3 = read.csv(\"./data/cleaned/SP500/sell BEN_gtrends.csv\")\n",
      "print(head(cleanTest))\n",
      "print(head(cleanTest2))\n",
      "print(head(cleanTest3))"
     ],
     "language": "python",
     "metadata": {},
     "outputs": [
      {
       "metadata": {},
       "output_type": "display_data",
       "text": [
        "        Date X3M.Company Price\n",
        "1 2004-04-02          84 81.78\n",
        "2 2004-04-16          90 83.73\n",
        "3 2004-04-23          93 87.90\n",
        "4 2004-04-30          62 86.48\n",
        "5 2004-05-07          66 84.43\n",
        "6 2004-05-14          70 83.81\n",
        "        Date  V Price\n",
        "1 2008-03-28 43 62.76\n",
        "2 2008-04-04 44 64.48\n",
        "3 2008-04-11 42 66.11\n",
        "4 2008-04-18 43 69.00\n",
        "5 2008-04-25 43 75.10\n",
        "6 2008-05-02 44 82.75\n",
        "        Date sell.BEN Price\n",
        "1 2008-03-14       83 90.45\n",
        "2 2009-02-27       63 45.80\n",
        "3 2009-03-06       61 38.66\n",
        "4 2009-03-13       61 49.04\n",
        "5 2009-03-20       61 47.09\n",
        "6 2009-03-27       61 54.20\n"
       ]
      }
     ],
     "prompt_number": 7
    },
    {
     "cell_type": "markdown",
     "metadata": {
      "slideshow": {
       "slide_type": "fragment"
      }
     },
     "source": [
      "Beautiful! Everything works! And now the data analysis can begin."
     ]
    },
    {
     "cell_type": "markdown",
     "metadata": {
      "slideshow": {
       "slide_type": "slide"
      }
     },
     "source": [
      "##Main Challenges\n",
      "\n",
      "The most difficult part of the project was determining the correlation between two time series (Google Trends data and stock data). We have no experience in calculating this value and may need some guidance.\n",
      "\n",
      "Another cause of difficulty will be creating a trading algorithm for a hypothetical stock portfolio backtest. However, this part of the project will be out of personal interest. The goal is not to create a profitable stock trading algorithm, but to help us understand the relationship between Google Trends data and stock price data better.\n",
      "\n",
      "It is hard to draw a solid conclusion from this. Even if there is a strong correlation, we did not know whether the changing stock prices affected the google trends data or it was the other way around. It is unclear which caused what. "
     ]
    },
    {
     "cell_type": "markdown",
     "metadata": {
      "slideshow": {
       "slide_type": "slide"
      }
     },
     "source": [
      "##Visualization\n",
      "\n",
      "Our first graph shows the density of the correlations\n"
     ]
    },
    {
     "cell_type": "code",
     "collapsed": false,
     "input": [
      "from IPython.core.display import Image \n",
      "Image(filename='visualizations/test.png')"
     ],
     "language": "python",
     "metadata": {
      "slideshow": {
       "slide_type": "fragment"
      }
     },
     "outputs": [
      {
       "metadata": {},
       "output_type": "pyout",
       "png": "[encoded data removed]",
       "prompt_number": 3,
       "text": [
        "<IPython.core.display.Image at 0x104642690>"
       ]
      }
     ],
     "prompt_number": 3
    }
   ],
   "metadata": {}
  }
 ]
}