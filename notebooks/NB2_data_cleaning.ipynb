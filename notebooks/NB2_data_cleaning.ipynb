{
 "metadata": {
  "name": ""
 },
 "nbformat": 3,
 "nbformat_minor": 0,
 "worksheets": [
  {
   "cells": [
    {
     "cell_type": "markdown",
     "metadata": {},
     "source": [
      "In this notebook, you'll\n",
      "\n",
      "* **perform visual exploration** on your data variables to detect anomalies, errors, outliers, interesting features etc.\n",
      "\n",
      "* **save interesting graphics** you obtained during visual exploration into the <code>./visualiation</code> directory"
     ]
    },
    {
     "cell_type": "markdown",
     "metadata": {},
     "source": [
      "##Team members responsible for this notebook:\n",
      "\n",
      "* team member 1 **Jordeen Chang**: Wrote data cleaning notebook\n"
     ]
    },
    {
     "cell_type": "code",
     "collapsed": false,
     "input": [
      "%load_ext rmagic"
     ],
     "language": "python",
     "metadata": {},
     "outputs": [],
     "prompt_number": 2
    },
    {
     "cell_type": "markdown",
     "metadata": {},
     "source": [
      "#Google Trends & Stock Prices: Data Cleaning\n",
      "-----------------------------------"
     ]
    },
    {
     "cell_type": "markdown",
     "metadata": {},
     "source": [
      "We will clean up the data in \"./data/raw\" by removing rows that have missing values. First, we will clean the data for the Dow Jones companies, and then clean the data for the SP500 companies."
     ]
    },
    {
     "cell_type": "markdown",
     "metadata": {},
     "source": [
      "###Step #1: A function that cleans the data given the file name"
     ]
    },
    {
     "cell_type": "markdown",
     "metadata": {},
     "source": [
      "Now we will write a function that takes in a filename from the folder \"./data/raw/DowJones_Modified\" and \n",
      "\n",
      "* converts the csv file into a data frame.\n",
      "\n",
      "* checks the format of the columns and changes them if they are not (Date, integer, numeric).\n",
      "\n",
      "* checks to see if any of the values are NA or 0. If so, the function will remove that row. \n",
      "\n",
      "* saves this cleaned data frame into a csv file of the same name under the directory \"./data/cleaned/DowJones_Modified\".\n"
     ]
    },
    {
     "cell_type": "code",
     "collapsed": false,
     "input": [
      "%%R\n",
      "\n",
      "cleanDow = function(fileName) {\n",
      "    stock = read.csv(paste(\"./data/raw/DowJones_Modified/\", fileName, sep = \"\"))\n",
      "    modes = data.frame(lapply(stock, class))\n",
      "    if (modes[1] != \"Date\") {\n",
      "        stock[,1] = as.Date(stock[,1], '%Y-%m-%d')\n",
      "    }\n",
      "    if (modes[2] != \"integer\") {\n",
      "        stock[,2] = as.integer(as.character(stock[,2]))\n",
      "    }\n",
      "    if (modes[3] != \"numeric\") {\n",
      "        stock[,3] = as.numeric(as.character(stock[,3]))\n",
      "    }\n",
      "    col = colnames(stock)\n",
      "    stock = stock[!is.na(stock[,1]) & !is.na(stock[,2]) & !is.na(stock[,3]) & stock[,2] != 0,]\n",
      "    write.csv(stock, file = paste(\"./data/cleaned/DowJones_Modified/\", fileName, sep = \"\"), row.names = FALSE)\n",
      "}\n"
     ],
     "language": "python",
     "metadata": {},
     "outputs": [],
     "prompt_number": 31
    },
    {
     "cell_type": "markdown",
     "metadata": {},
     "source": [
      "### Step #2: Apply the function to all files in DowJones directory"
     ]
    },
    {
     "cell_type": "markdown",
     "metadata": {},
     "source": [
      "Now we will run this function on a list of files in the directory \"./data/raw/DowJones_Modified/\" and it will clean all the files in this directory."
     ]
    },
    {
     "cell_type": "code",
     "collapsed": false,
     "input": [
      "%%R\n",
      "\n",
      "allDow = list.files(\"./data/raw/DowJones_Modified/\")\n",
      "lapply(allDow, cleanDow)\n"
     ],
     "language": "python",
     "metadata": {},
     "outputs": [],
     "prompt_number": 33
    },
    {
     "cell_type": "markdown",
     "metadata": {},
     "source": [
      "### Step #3: Repeat for SP500 companies"
     ]
    },
    {
     "cell_type": "markdown",
     "metadata": {},
     "source": [
      "Now we will repeat the process for the SP500 companies. "
     ]
    },
    {
     "cell_type": "code",
     "collapsed": false,
     "input": [
      "%%R\n",
      "\n",
      "cleanSP = function(fileName) {\n",
      "    stock = read.csv(paste(\"./data/raw/SP500/\", fileName, sep = \"\"))\n",
      "    modes = data.frame(lapply(stock, class))\n",
      "    if (modes[1] != \"Date\") {\n",
      "        stock[,1] = as.Date(stock[,1], '%Y-%m-%d')\n",
      "    }\n",
      "    if (modes[2] != \"integer\") {\n",
      "        stock[,2] = as.integer(as.character(stock[,2]))\n",
      "    }\n",
      "    if (modes[3] != \"numeric\") {\n",
      "        stock[,3] = as.numeric(as.character(stock[,3]))\n",
      "    }\n",
      "    col = colnames(stock)\n",
      "    stock = stock[!is.na(stock[,1]) & !is.na(stock[,2]) & !is.na(stock[,3]) & stock[,2] != 0,]\n",
      "    write.csv(stock, file = paste(\"./data/cleaned/SP500/\", fileName, sep = \"\"), row.names = FALSE)\n",
      "}"
     ],
     "language": "python",
     "metadata": {},
     "outputs": [],
     "prompt_number": 39
    },
    {
     "cell_type": "code",
     "collapsed": false,
     "input": [
      "%%R\n",
      "\n",
      "allSP = list.files(\"./data/raw/SP500/\")\n",
      "lapply(allSP, cleanSP)"
     ],
     "language": "python",
     "metadata": {},
     "outputs": [],
     "prompt_number": 40
    },
    {
     "cell_type": "markdown",
     "metadata": {},
     "source": [
      "### Now all our files in \"./data/cleaned/\" are formatted correctly and ready to be analyzed!"
     ]
    }
   ],
   "metadata": {}
  }
 ]
}