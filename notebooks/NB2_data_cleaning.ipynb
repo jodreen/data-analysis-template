{
 "metadata": {
  "name": ""
 },
 "nbformat": 3,
 "nbformat_minor": 0,
 "worksheets": [
  {
   "cells": [
    {
     "cell_type": "markdown",
     "metadata": {},
     "source": [
      "In this notebook, you'll\n",
      "\n",
      "* **load the raw data into R or Pandas dataframe** from the <code>./data/raw</code> directory using the functions and classes (written during the data gathering phase) in the <code>./script</code> directory\n",
      "\n",
      "\n",
      "* **perform visual exploration** on your data variables to detect anomalies, errors, outliers, interesting features etc.\n",
      "\n",
      "\n",
      "\n",
      "* **clean categorical and quantitative variables** (by removing observations and variables with too many missing values, by consolidating categorical variables, by selecting an appropriate subset of variables and observations for later analysis, etc.)\n",
      "\n",
      "\n",
      "* **save the cleaned data** into csv files in the <code>./data/cleaned</code> directory\n",
      "\n",
      "\n",
      "* **save interesting graphics** you obtained during visual exploration into the <code>./visualiation</code> directory"
     ]
    },
    {
     "cell_type": "markdown",
     "metadata": {},
     "source": [
      "##Team members responsible for this notebook:\n",
      "\n",
      "List the team members contributing to this notebook, along with their responsabilities:\n",
      "\n",
      "* team member 1 **name**: team member 1 **responsabilities**\n",
      "* team member 2 **name**: team member 2 **responsabilities**\n",
      "* etc.\n",
      "\n",
      "I advise you to work at least in pairs for each project notebook, as you did for the homework assignments. Of course, all team members may participate to each notebook. "
     ]
    },
    {
     "cell_type": "heading",
     "level": 2,
     "metadata": {},
     "source": [
      "Example"
     ]
    },
    {
     "cell_type": "markdown",
     "metadata": {},
     "source": [
      "Here I'll load the plant data in xml format into a R data frame using the \n",
      "\n",
      "    create_df_from_plant_xml(file)\n",
      "    \n",
      "function contained in the R script \n",
      "\n",
      "        ./script/plant_df-R"
     ]
    },
    {
     "cell_type": "code",
     "collapsed": false,
     "input": [
      "%load_ext rmagic"
     ],
     "language": "python",
     "metadata": {},
     "outputs": [],
     "prompt_number": 2
    },
    {
     "cell_type": "markdown",
     "metadata": {},
     "source": [
      "To load the function into a R cell, one needs to use the\n",
      "\n",
      "    source(R_script_file)\n",
      "command in R, which works in a similar way as the \n",
      "\n",
      "    import module\n",
      "command in Python:"
     ]
    },
    {
     "cell_type": "code",
     "collapsed": false,
     "input": [
      "%%R \n",
      "\n",
      "source('./script/plant_df-R')"
     ],
     "language": "python",
     "metadata": {},
     "outputs": [
      {
       "output_type": "stream",
       "stream": "stdout",
       "text": [
        "Error in file(filename, \"r\", encoding = encoding) : \n",
        "  cannot open the connection\n",
        "In addition: Warning message:\n",
        "In file(filename, \"r\", encoding = encoding) :\n",
        "  cannot open file './script/plant_df-R': No such file or directory\n",
        "Error in file(filename, \"r\", encoding = encoding) : \n",
        "  cannot open the connection\n"
       ]
      }
     ],
     "prompt_number": 2
    },
    {
     "cell_type": "markdown",
     "metadata": {},
     "source": [
      "Now, we can create a data frame directly from the XML file using the functin contained in the scrip above.\n",
      "\n",
      "If you wish to perform the cleaning using Pandas data frames instead of R data frames, one make the R data frame available to Python cells by using the R magic command:\n",
      "\n",
      "    %%R -d df_name\n",
      "\n",
      "To know more on how to pass variables back and forth between R and Python cells, please have a look at the notebook [here](http://nbviewer.ipython.org/url/github.com/ipython/ipython/raw/master/examples/notebooks/R%20Magics.ipynb)."
     ]
    },
    {
     "cell_type": "code",
     "collapsed": false,
     "input": [
      "%%R -d data\n",
      "install.packages(\"XML\")\n",
      "library(XML)\n",
      "\n",
      "data = create_df_from_plant_xml('./data/raw/plant.xml')\n"
     ],
     "language": "python",
     "metadata": {},
     "outputs": [],
     "prompt_number": "*"
    },
    {
     "cell_type": "markdown",
     "metadata": {},
     "source": [
      "Now let's load our data into a Pandas data frame:"
     ]
    },
    {
     "cell_type": "code",
     "collapsed": false,
     "input": [
      "from pandas import DataFrame\n",
      "\n",
      "df = DataFrame(data)\n",
      "df.head()"
     ],
     "language": "python",
     "metadata": {},
     "outputs": [
      {
       "ename": "NameError",
       "evalue": "name 'data' is not defined",
       "output_type": "pyerr",
       "traceback": [
        "\u001b[0;31m---------------------------------------------------------------------------\u001b[0m\n\u001b[0;31mNameError\u001b[0m                                 Traceback (most recent call last)",
        "\u001b[0;32m<ipython-input-4-58863787c1c4>\u001b[0m in \u001b[0;36m<module>\u001b[0;34m()\u001b[0m\n\u001b[1;32m      1\u001b[0m \u001b[0;32mfrom\u001b[0m \u001b[0mpandas\u001b[0m \u001b[0;32mimport\u001b[0m \u001b[0mDataFrame\u001b[0m\u001b[0;34m\u001b[0m\u001b[0m\n\u001b[1;32m      2\u001b[0m \u001b[0;34m\u001b[0m\u001b[0m\n\u001b[0;32m----> 3\u001b[0;31m \u001b[0mdf\u001b[0m \u001b[0;34m=\u001b[0m \u001b[0mDataFrame\u001b[0m\u001b[0;34m(\u001b[0m\u001b[0mdata\u001b[0m\u001b[0;34m)\u001b[0m\u001b[0;34m\u001b[0m\u001b[0m\n\u001b[0m\u001b[1;32m      4\u001b[0m \u001b[0mdf\u001b[0m\u001b[0;34m.\u001b[0m\u001b[0mhead\u001b[0m\u001b[0;34m(\u001b[0m\u001b[0;34m)\u001b[0m\u001b[0;34m\u001b[0m\u001b[0m\n",
        "\u001b[0;31mNameError\u001b[0m: name 'data' is not defined"
       ]
      }
     ],
     "prompt_number": 4
    },
    {
     "cell_type": "markdown",
     "metadata": {},
     "source": [
      "The actual data cleaning can now begins!"
     ]
    },
    {
     "cell_type": "code",
     "collapsed": false,
     "input": [
      "%%R\n",
      "\n",
      "dowjones = read.csv(\"DowJones.csv\")\n",
      "#mode = data.frame(lapply(dowjones, class))\n",
      "companies = dowjones$Company\n",
      "print(companies)"
     ],
     "language": "python",
     "metadata": {},
     "outputs": [
      {
       "metadata": {},
       "output_type": "display_data",
       "text": [
        " [1] American Express Company                   \n",
        " [2] The Boeing Company                         \n",
        " [3] Caterpillar Inc.                           \n",
        " [4] Cisco Systems, Inc.                        \n",
        " [5] Chevron Corporation                        \n",
        " [6] E. I. du Pont de Nemours and Company       \n",
        " [7] The Walt Disney Company                    \n",
        " [8] General Electric Company                   \n",
        " [9] The Goldman Sachs Group, Inc.              \n",
        "[10] The Home Depot, Inc.                       \n",
        "[11] International Business Machines Corporation\n",
        "[12] Intel Corporation                          \n",
        "[13] Johnson & Johnson                          \n",
        "[14] JPMorgan Chase & Co.                       \n",
        "[15] The Coca-Cola Company                      \n",
        "[16] McDonald's Corp.                           \n",
        "[17] 3M Company                                 \n",
        "[18] Merck & Co. Inc.                           \n",
        "[19] Microsoft Corporation                      \n",
        "[20] Nike, Inc.                                 \n",
        "[21] Pfizer Inc.                                \n",
        "[22] The Procter & Gamble Company               \n",
        "[23] AT&T, Inc.                                 \n",
        "[24] The Travelers Companies, Inc.              \n",
        "[25] UnitedHealth Group Incorporated            \n",
        "[26] United Technologies Corp.                  \n",
        "[27] Visa Inc.                                  \n",
        "[28] Verizon Communications Inc.                \n",
        "[29] Wal-Mart Stores Inc.                       \n",
        "[30] Exxon Mobil Corporation                    \n",
        "30 Levels: 3M Company American Express Company AT&T, Inc. ... Wal-Mart Stores Inc.\n"
       ]
      }
     ],
     "prompt_number": 23
    },
    {
     "cell_type": "code",
     "collapsed": false,
     "input": [
      "%%R\n",
      "\n",
      "alldata = list.files(\"./gtrends\")\n",
      "cleandata = function(fileName) {\n",
      "    stock = read.csv(paste(\"gtrends/\", fileName, sep = \"\"))\n",
      "    modes = data.frame(lapply(stock, class))\n",
      "    if (modes[1] != \"Date\") {\n",
      "        stock[,1] = as.Date(stock[,1], '%Y-%m-%d')\n",
      "    }\n",
      "    if (modes[2] != \"integer\") {\n",
      "        stock[,2] = as.integer(as.character(stock[,2]))\n",
      "    }\n",
      "    if (modes[3] != \"numeric\") {\n",
      "        stock[,3] = as.numeric(as.character(stock[,3]))\n",
      "    }\n",
      "    col = colnames(stock)\n",
      "    stock = stock[!is.na(stock[,1]) & !is.na(stock[,2]) & !is.na(stock[,3]) & stock[,2] != 0,]\n",
      "    write.csv(stock, file = paste(\"cleaned/\", fileName, sep = \"\"), row.names = FALSE)\n",
      "}\n",
      "\n",
      "lapply(alldata, cleandata)\n"
     ],
     "language": "python",
     "metadata": {},
     "outputs": [],
     "prompt_number": 48
    },
    {
     "cell_type": "code",
     "collapsed": false,
     "input": [],
     "language": "python",
     "metadata": {},
     "outputs": []
    }
   ],
   "metadata": {}
  }
 ]
}