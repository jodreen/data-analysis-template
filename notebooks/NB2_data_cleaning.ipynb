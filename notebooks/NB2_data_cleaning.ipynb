{
 "metadata": {
  "name": ""
 },
 "nbformat": 3,
 "nbformat_minor": 0,
 "worksheets": [
  {
   "cells": [
    {
     "cell_type": "markdown",
     "metadata": {},
     "source": [
      "We will clean up the data in \"./data/raw\" by first removing all the rows that have missing values. Then we will make sure that all the data in the CSV files are of the same type such that analysis will be easier. These cleaned files will be stored in a new directory."
     ]
    },
    {
     "cell_type": "markdown",
     "metadata": {},
     "source": [
      "#Google Trends & Stock Prices: Data Cleaning\n",
      "-----------------------------------"
     ]
    },
    {
     "cell_type": "markdown",
     "metadata": {},
     "source": [
      "##Preliminary Setup\n",
      "\n",
      "###Step #0: Contributors\n",
      "\n",
      "* Jordeen Chang: Wrote data cleaning notebook\n"
     ]
    },
    {
     "cell_type": "markdown",
     "metadata": {},
     "source": [
      "### Step #1: Identify the problem"
     ]
    },
    {
     "cell_type": "code",
     "collapsed": false,
     "input": [
      "%load_ext rmagic"
     ],
     "language": "python",
     "metadata": {},
     "outputs": [
      {
       "output_type": "stream",
       "stream": "stdout",
       "text": [
        "The rmagic extension is already loaded. To reload it, use:\n",
        "  %reload_ext rmagic\n"
       ]
      }
     ],
     "prompt_number": 11
    },
    {
     "cell_type": "markdown",
     "metadata": {},
     "source": [
      "Let us first take a look at the data that we are dealing with. For each file, we have three columns, one for the date, the other for how popular the search term was (gathered from Google Trends), and the price of the stock during that time (gathered from Yahoo)."
     ]
    },
    {
     "cell_type": "code",
     "collapsed": false,
     "input": [
      "%%R\n",
      "\n",
      "testing = read.csv(\"./data/raw/DowJones/3M Company_gtrends.csv\")\n",
      "testing2 = read.csv(\"./data/raw/DowJones/CAT_gtrends.csv\")\n",
      "\n",
      "print(head(testing))"
     ],
     "language": "python",
     "metadata": {},
     "outputs": [
      {
       "metadata": {},
       "output_type": "display_data",
       "text": [
        "        Date X3M.Company Price\n",
        "1 2004-01-09           0    NA\n",
        "2 2004-01-16           0    NA\n",
        "3 2004-01-23         100    NA\n",
        "4 2004-01-30           0    NA\n",
        "5 2004-02-06           0 79.81\n",
        "6 2004-02-13           0 79.68\n"
       ]
      }
     ],
     "prompt_number": 31
    },
    {
     "cell_type": "code",
     "collapsed": false,
     "input": [
      "%%R\n",
      "print(lapply(testing, class))"
     ],
     "language": "python",
     "metadata": {},
     "outputs": [
      {
       "metadata": {},
       "output_type": "display_data",
       "text": [
        "$Date\n",
        "[1] \"factor\"\n",
        "\n",
        "$X3M.Company\n",
        "[1] \"integer\"\n",
        "\n",
        "$Price\n",
        "[1] \"numeric\"\n",
        "\n"
       ]
      }
     ],
     "prompt_number": 33
    },
    {
     "cell_type": "markdown",
     "metadata": {},
     "source": [
      "Looking at this we can see that we have 0 for our google trends values and NA for some of the prices. There is no point in using data points that do not have prices or have 0 for the google trends values because it will mess up the analysis. We also want to standardize all the data, so we will make sure everything follows the same format. We will have the first column be of class \"Date\", the second column be \"integer\", and the third be \"numeric.\" Now we know what data points we need to remove and we can get on to cleaning!"
     ]
    },
    {
     "cell_type": "markdown",
     "metadata": {},
     "source": [
      "##Data Cleaning Code"
     ]
    },
    {
     "cell_type": "markdown",
     "metadata": {},
     "source": [
      "###Step #2: A function that cleans the data given the file name"
     ]
    },
    {
     "cell_type": "markdown",
     "metadata": {},
     "source": [
      "Now we will write a function that takes in a filename from the folder \"./data/raw/DowJones_Modified\" and \n",
      "\n",
      "* converts the csv file into a data frame.\n",
      "\n",
      "* checks the format of the columns and changes them if they are not (Date, integer, numeric).\n",
      "\n",
      "* checks to see if any of the values are NA or 0. If so, the function will remove that row. \n",
      "\n",
      "* saves this cleaned data frame into a csv file of the same name under the directory \"./data/cleaned/DowJones_Modified\".\n"
     ]
    },
    {
     "cell_type": "code",
     "collapsed": false,
     "input": [
      "%%R\n",
      "\n",
      "cleanDow = function(fileName) {\n",
      "    stock = read.csv(paste(\"./data/raw/DowJones_Modified/\", fileName, sep = \"\"))\n",
      "    modes = data.frame(lapply(stock, class))\n",
      "    if (modes[1] != \"Date\") {\n",
      "        stock[,1] = as.Date(stock[,1], '%Y-%m-%d')\n",
      "    }\n",
      "    if (modes[2] != \"integer\") {\n",
      "        stock[,2] = as.integer(as.character(stock[,2]))\n",
      "    }\n",
      "    if (modes[3] != \"numeric\") {\n",
      "        stock[,3] = as.numeric(as.character(stock[,3]))\n",
      "    }\n",
      "    col = colnames(stock)\n",
      "    stock = stock[!is.na(stock[,1]) & !is.na(stock[,2]) & !is.na(stock[,3]) & stock[,2] != 0,]\n",
      "    write.csv(stock, file = paste(\"./data/cleaned/DowJones_Modified/\", fileName, sep = \"\"), row.names = FALSE)\n",
      "}\n"
     ],
     "language": "python",
     "metadata": {},
     "outputs": [],
     "prompt_number": 12
    },
    {
     "cell_type": "markdown",
     "metadata": {},
     "source": [
      "### Step #3: Apply the function to all files in DowJones directory"
     ]
    },
    {
     "cell_type": "markdown",
     "metadata": {},
     "source": [
      "Now we will run this function on a list of files in the directory \"./data/raw/DowJones_Modified/\" and it will clean all the files in this directory."
     ]
    },
    {
     "cell_type": "code",
     "collapsed": false,
     "input": [
      "%%R\n",
      "\n",
      "allDow = list.files(\"./data/raw/DowJones_Modified/\")\n",
      "lapply(allDow, cleanDow)\n"
     ],
     "language": "python",
     "metadata": {},
     "outputs": [],
     "prompt_number": 13
    },
    {
     "cell_type": "markdown",
     "metadata": {},
     "source": [
      "Let's print some of this out so we can see whether or not the data is cleaned correctly. We will use the same file that we saw earlier. "
     ]
    },
    {
     "cell_type": "code",
     "collapsed": false,
     "input": [
      "%%R\n",
      "\n",
      "testing = read.csv(\"./data/cleaned/DowJones/3M Company_gtrends.csv\")\n",
      "print(head(testing))\n"
     ],
     "language": "python",
     "metadata": {},
     "outputs": [
      {
       "metadata": {},
       "output_type": "display_data",
       "text": [
        "        Date X3M.Company Price\n",
        "1 2004-04-02          84 81.78\n",
        "2 2004-04-16          90 83.73\n",
        "3 2004-04-23          93 87.90\n",
        "4 2004-04-30          62 86.48\n",
        "5 2004-05-07          66 84.43\n",
        "6 2004-05-14          70 83.81\n"
       ]
      }
     ],
     "prompt_number": 35
    },
    {
     "cell_type": "markdown",
     "metadata": {},
     "source": [
      "Perfect. The data is cleaned and our function works. Let's try to clean the rest of our data."
     ]
    },
    {
     "cell_type": "markdown",
     "metadata": {},
     "source": [
      "### Step #4: Repeat for SP500 companies"
     ]
    },
    {
     "cell_type": "markdown",
     "metadata": {},
     "source": [
      "Now we will repeat the process for the SP500 companies. "
     ]
    },
    {
     "cell_type": "code",
     "collapsed": false,
     "input": [
      "%%R\n",
      "\n",
      "cleanSP = function(fileName) {\n",
      "    stock = read.csv(paste(\"./data/raw/SP500/\", fileName, sep = \"\"))\n",
      "    modes = data.frame(lapply(stock, class))\n",
      "    if (modes[1] != \"Date\") {\n",
      "        stock[,1] = as.Date(stock[,1], '%Y-%m-%d')\n",
      "    }\n",
      "    if (modes[2] != \"integer\") {\n",
      "        stock[,2] = as.integer(as.character(stock[,2]))\n",
      "    }\n",
      "    if (modes[3] != \"numeric\") {\n",
      "        stock[,3] = as.numeric(as.character(stock[,3]))\n",
      "    }\n",
      "    col = colnames(stock)\n",
      "    stock = stock[!is.na(stock[,1]) & !is.na(stock[,2]) & !is.na(stock[,3]) & stock[,2] != 0,]\n",
      "    write.csv(stock, file = paste(\"./data/cleaned/SP500/\", fileName, sep = \"\"), row.names = FALSE)\n",
      "}"
     ],
     "language": "python",
     "metadata": {},
     "outputs": [],
     "prompt_number": 14
    },
    {
     "cell_type": "code",
     "collapsed": false,
     "input": [
      "%%R\n",
      "\n",
      "allSP = list.files(\"./data/raw/SP500/\")\n",
      "lapply(allSP, cleanSP)"
     ],
     "language": "python",
     "metadata": {},
     "outputs": [],
     "prompt_number": 15
    },
    {
     "cell_type": "markdown",
     "metadata": {},
     "source": [
      "###Step #5: Repeat for Dow Jones (Unmodified)"
     ]
    },
    {
     "cell_type": "markdown",
     "metadata": {},
     "source": [
      "And we repeat for the unmodified Dow Jones."
     ]
    },
    {
     "cell_type": "code",
     "collapsed": false,
     "input": [
      "%%R\n",
      "\n",
      "cleanDowUnmodified = function(fileName) {\n",
      "    stock = read.csv(paste(\"./data/raw/DowJones/\", fileName, sep = \"\"))\n",
      "    modes = data.frame(lapply(stock, class))\n",
      "    if (modes[1] != \"Date\") {\n",
      "        stock[,1] = as.Date(stock[,1], '%Y-%m-%d')\n",
      "    }\n",
      "    if (modes[2] != \"integer\") {\n",
      "        stock[,2] = as.integer(as.character(stock[,2]))\n",
      "    }\n",
      "    if (modes[3] != \"numeric\") {\n",
      "        stock[,3] = as.numeric(as.character(stock[,3]))\n",
      "    }\n",
      "    col = colnames(stock)\n",
      "    stock = stock[!is.na(stock[,1]) & !is.na(stock[,2]) & !is.na(stock[,3]) & stock[,2] != 0,]\n",
      "    write.csv(stock, file = paste(\"./data/cleaned/DowJones/\", fileName, sep = \"\"), row.names = FALSE)\n",
      "}"
     ],
     "language": "python",
     "metadata": {},
     "outputs": [],
     "prompt_number": 17
    },
    {
     "cell_type": "code",
     "collapsed": false,
     "input": [
      "%%R\n",
      "\n",
      "allDowUnmodified = list.files(\"./data/raw/DowJones/\")\n",
      "lapply(allDowUnmodified, cleanDowUnmodified)"
     ],
     "language": "python",
     "metadata": {},
     "outputs": []
    },
    {
     "cell_type": "markdown",
     "metadata": {},
     "source": [
      "Another comparison of the data before cleaning and the data after."
     ]
    },
    {
     "cell_type": "code",
     "collapsed": false,
     "input": [
      "%%R\n",
      "\n",
      "print(head(read.csv(\"./data/raw/DowJones/3M Company_gtrends.csv\")))\n",
      "print(head(read.csv(\"./data/cleaned/DowJones/3M Company_gtrends.csv\")))\n"
     ],
     "language": "python",
     "metadata": {},
     "outputs": [
      {
       "metadata": {},
       "output_type": "display_data",
       "text": [
        "[1] \"3M Company_gtrends.csv\"              \n",
        "[2] \"American Express Company_gtrends.csv\"\n",
        "[3] \"AT&T, Inc._gtrends.csv\"              \n",
        "[4] \"AXP_gtrends.csv\"                     \n",
        "[5] \"BA_gtrends.csv\"                      \n",
        "[6] \"buy BA_gtrends.csv\"                  \n",
        "        Date X3M.Company Price\n",
        "1 2004-01-09           0    NA\n",
        "2 2004-01-16           0    NA\n",
        "3 2004-01-23         100    NA\n",
        "4 2004-01-30           0    NA\n",
        "5 2004-02-06           0 79.81\n",
        "6 2004-02-13           0 79.68\n",
        "        Date X3M.Company Price\n",
        "1 2004-04-02          84 81.78\n",
        "2 2004-04-16          90 83.73\n",
        "3 2004-04-23          93 87.90\n",
        "4 2004-04-30          62 86.48\n",
        "5 2004-05-07          66 84.43\n",
        "6 2004-05-14          70 83.81\n"
       ]
      }
     ],
     "prompt_number": 21
    },
    {
     "cell_type": "markdown",
     "metadata": {},
     "source": [
      "### Now all our files in \"./data/cleaned/\" are formatted correctly and ready to be analyzed!"
     ]
    }
   ],
   "metadata": {}
  }
 ]
}